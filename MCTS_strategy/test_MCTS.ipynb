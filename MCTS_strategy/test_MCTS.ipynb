{
 "cells": [
  {
   "cell_type": "code",
   "execution_count": null,
   "metadata": {},
   "outputs": [],
   "source": [
    "from MCTS_agent import agent_mcts, scores\n",
    "from kaggle_environments import make, evaluate"
   ]
  },
  {
   "attachments": {},
   "cell_type": "markdown",
   "metadata": {},
   "source": [
    "## How the environment works and how to create a agent"
   ]
  },
  {
   "cell_type": "code",
   "execution_count": null,
   "metadata": {},
   "outputs": [],
   "source": [
    "def agent(observation, configuration):\n",
    "    board = observation.board\n",
    "    columns = configuration.columns\n",
    "    return [c for c in range(columns) if board[c] == 0][0]\n",
    "\n",
    "env = make(\"connectx\", debug=True)\n",
    "# play agent above vs default random agent.\n",
    "env.run([agent, \"random\"])\n",
    "env.render(mode=\"ipython\", width=600, height=500, header=False)"
   ]
  },
  {
   "attachments": {},
   "cell_type": "markdown",
   "metadata": {},
   "source": [
    "## Test our MCTS agent"
   ]
  },
  {
   "attachments": {},
   "cell_type": "markdown",
   "metadata": {},
   "source": [
    "env = make(\"connectx\", debug=True)\n",
    "\n",
    "env.reset()\n",
    "\n",
    "env.run([agent_mcts, 'negamax'])\n",
    "x = env.render(mode=\"ipython\", width=500, height=450)"
   ]
  },
  {
   "attachments": {},
   "cell_type": "markdown",
   "metadata": {},
   "source": [
    "## Evaluate the performance of our strategy"
   ]
  },
  {
   "cell_type": "code",
   "execution_count": null,
   "metadata": {},
   "outputs": [],
   "source": [
    "# The already implemented strategies are : 'negamax', 'random' and agent (the one implemented in the previous cell)\n",
    "print(\"My Agent vs Negamax Agent:\", scores(evaluate(\"connectx\", [agent_mcts, \"negamax\"], num_episodes=100)))"
   ]
  }
 ],
 "metadata": {
  "kernelspec": {
   "display_name": "Python 3",
   "language": "python",
   "name": "python3"
  },
  "language_info": {
   "name": "python",
   "version": "3.10.4 (v3.10.4:9d38120e33, Mar 23 2022, 17:29:05) [Clang 13.0.0 (clang-1300.0.29.30)]"
  },
  "orig_nbformat": 4,
  "vscode": {
   "interpreter": {
    "hash": "aee8b7b246df8f9039afb4144a1f6fd8d2ca17a180786b69acc140d282b71a49"
   }
  }
 },
 "nbformat": 4,
 "nbformat_minor": 2
}
