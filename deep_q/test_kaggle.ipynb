{
 "cells": [
  {
   "cell_type": "code",
   "execution_count": 2,
   "metadata": {},
   "outputs": [],
   "source": [
    "import numpy as np"
   ]
  },
  {
   "cell_type": "code",
   "execution_count": 3,
   "metadata": {},
   "outputs": [
    {
     "name": "stdout",
     "output_type": "stream",
     "text": [
      "Loading environment lux_ai_s2 failed: No module named 'vec_noise'\n",
      "connectx 1.0.1\n",
      "Default Agents:  random negamax\n"
     ]
    }
   ],
   "source": [
    "from kaggle_environments import make\n",
    "env = make(\"connectx\")\n",
    "print(env.name, env.version)\n",
    "print(\"Default Agents: \", *env.agents)"
   ]
  },
  {
   "cell_type": "code",
   "execution_count": 4,
   "metadata": {},
   "outputs": [
    {
     "name": "stdout",
     "output_type": "stream",
     "text": [
      "[[0 0 0 0 0 0 0]\n",
      " [0 0 0 0 0 0 0]\n",
      " [0 0 0 0 0 0 0]\n",
      " [0 0 0 0 0 0 0]\n",
      " [0 0 0 0 0 0 0]\n",
      " [1 0 0 0 2 0 0]]\n",
      "[[0 0 0 0 0 0 0]\n",
      " [0 0 0 0 0 0 0]\n",
      " [0 0 0 0 0 0 0]\n",
      " [0 0 0 0 0 0 0]\n",
      " [1 0 0 0 0 0 0]\n",
      " [1 0 2 0 2 0 0]]\n"
     ]
    }
   ],
   "source": [
    "env = make(\"connectx\", debug=True)\n",
    "\n",
    "# Training agent in first position (player 1) against the default random agent.\n",
    "trainer = env.train([None, \"random\"])\n",
    "\n",
    "obs = trainer.reset()\n",
    "for _ in range(2):\n",
    "    action = 0 # Action for the agent being trained.\n",
    "    #env.render(mode=\"ipython\", width=600, height=500, header=False)\n",
    "    obs, reward, done, info = trainer.step(action)\n",
    "    print(np.reshape(obs[\"board\"], (6,7)))\n",
    "    if done:\n",
    "        obs = trainer.reset()\n",
    "        "
   ]
  },
  {
   "cell_type": "code",
   "execution_count": 5,
   "metadata": {},
   "outputs": [
    {
     "name": "stdout",
     "output_type": "stream",
     "text": [
      "Help on Environment in module kaggle_environments.core object:\n",
      "\n",
      "class Environment(builtins.object)\n",
      " |  Environment(specification=None, configuration=None, info=None, steps=None, logs=None, agents=None, interpreter=None, renderer=None, html_renderer=None, debug=False, state=None)\n",
      " |  \n",
      " |  Methods defined here:\n",
      " |  \n",
      " |  __init__(self, specification=None, configuration=None, info=None, steps=None, logs=None, agents=None, interpreter=None, renderer=None, html_renderer=None, debug=False, state=None)\n",
      " |      Initialize self.  See help(type(self)) for accurate signature.\n",
      " |  \n",
      " |  clone(self)\n",
      " |      Returns:\n",
      " |          Environment: A copy of the current environment.\n",
      " |  \n",
      " |  debug_print(self, message)\n",
      " |  \n",
      " |  play(self, agents=None, **kwargs)\n",
      " |      Renders a visual representation of the environment and allows interactive action selection.\n",
      " |      \n",
      " |      Args:\n",
      " |          **kwargs (dict): Args directly passed into render().  Mode is fixed to ipython.\n",
      " |      \n",
      " |      Returns:\n",
      " |          None: prints directly to an IPython notebook\n",
      " |  \n",
      " |  render(self, **kwargs)\n",
      " |      Renders a visual representation of the current state of the environment.\n",
      " |      \n",
      " |      Args:\n",
      " |          mode (str): html, ipython, ansi, human (default)\n",
      " |          **kwargs (dict): Other args are directly passed into the html player.\n",
      " |      \n",
      " |      Returns:\n",
      " |          str: html if mode=html or ansi if mode=ansi.\n",
      " |          None: prints ansi if mode=human or prints html if mode=ipython\n",
      " |  \n",
      " |  reset(self, num_agents=None)\n",
      " |      Resets the environment state to the initial step.\n",
      " |      \n",
      " |      Args:\n",
      " |          num_agents (int): Resets the state assuming a fixed number of agents.\n",
      " |      \n",
      " |      Returns:\n",
      " |          list of dict: The agents states after the reset.\n",
      " |  \n",
      " |  run(self, agents)\n",
      " |      Steps until the environment is \"done\" or the runTimeout was reached.\n",
      " |      \n",
      " |      Args:\n",
      " |          agents (list of any): List of agents to obtain actions from.\n",
      " |      \n",
      " |      Returns:\n",
      " |          tuple of:\n",
      " |              list of list of dict: The agent states of all steps executed.\n",
      " |              list of list of dict: The agent logs of all steps executed.\n",
      " |  \n",
      " |  step(self, actions, logs=None)\n",
      " |      Execute the environment interpreter using the current state and a list of actions.\n",
      " |      \n",
      " |      Args:\n",
      " |          actions (list): Actions to pair up with the current agent states.\n",
      " |          logs (list): Logs to pair up with each agent for the current step.\n",
      " |      \n",
      " |      Returns:\n",
      " |          list of dict: The agents states after the step.\n",
      " |  \n",
      " |  toJSON(self)\n",
      " |      Returns:\n",
      " |          dict: Specifcation and current state of the Environment instance.\n",
      " |  \n",
      " |  train(self, agents=None)\n",
      " |      Setup a lightweight training environment for a single agent.\n",
      " |      Note: This is designed to be a lightweight starting point which can\n",
      " |            be integrated with other frameworks (i.e. gym, stable-baselines).\n",
      " |            The reward returned by the \"step\" function here is a diff between the\n",
      " |            current and the previous step.\n",
      " |      \n",
      " |      Example:\n",
      " |          env = make(\"tictactoe\")\n",
      " |          # Training agent in first position (player 1) against the default random agent.\n",
      " |          trainer = env.train([None, \"random\"])\n",
      " |      \n",
      " |          obs = trainer.reset()\n",
      " |          done = False\n",
      " |          while not done:\n",
      " |              action = 0 # Action for the agent being trained.\n",
      " |              obs, reward, done, info = trainer.step(action)\n",
      " |          env.render()\n",
      " |      \n",
      " |      Args:\n",
      " |          agents (list): List of agents to obtain actions from while training.\n",
      " |                         The agent to train (in position), should be set to \"None\".\n",
      " |      \n",
      " |      Returns:\n",
      " |          `dict`.reset: Reset def that reset the environment, then advances until the agents turn.\n",
      " |          `dict`.step: Steps using the agent action, then advance until agents turn again.\n",
      " |  \n",
      " |  ----------------------------------------------------------------------\n",
      " |  Readonly properties defined here:\n",
      " |  \n",
      " |  done\n",
      " |      bool: If any agents have an ACTIVE status.\n",
      " |  \n",
      " |  name\n",
      " |      str: The name from the specification.\n",
      " |  \n",
      " |  version\n",
      " |      str: The version from the specification.\n",
      " |  \n",
      " |  ----------------------------------------------------------------------\n",
      " |  Data descriptors defined here:\n",
      " |  \n",
      " |  __dict__\n",
      " |      dictionary for instance variables (if defined)\n",
      " |  \n",
      " |  __weakref__\n",
      " |      list of weak references to the object (if defined)\n",
      "\n"
     ]
    }
   ],
   "source": [
    "observation_space = gym.spaces.Discrete"
   ]
  },
  {
   "cell_type": "code",
   "execution_count": 6,
   "metadata": {},
   "outputs": [
    {
     "name": "stdout",
     "output_type": "stream",
     "text": [
      "Help on function make in module kaggle_environments.core:\n",
      "\n",
      "make(environment, configuration=None, info=None, steps=None, logs=None, debug=False, state=None)\n",
      "    Creates an instance of an Environment.\n",
      "    \n",
      "    Args:\n",
      "        environment (str|Environment):\n",
      "        configuration (dict, optional):\n",
      "        info (dict, optional):\n",
      "        steps (list, optional):\n",
      "        debug (bool=False, optional): Render print() statments to stdout\n",
      "        state (optional):\n",
      "    \n",
      "    Returns:\n",
      "        Environment: Instance of a specific environment.\n",
      "\n"
     ]
    }
   ],
   "source": [
    "help(make)"
   ]
  },
  {
   "cell_type": "code",
   "execution_count": null,
   "metadata": {},
   "outputs": [],
   "source": []
  }
 ],
 "metadata": {
  "kernelspec": {
   "display_name": "puissance4",
   "language": "python",
   "name": "python3"
  },
  "language_info": {
   "codemirror_mode": {
    "name": "ipython",
    "version": 3
   },
   "file_extension": ".py",
   "mimetype": "text/x-python",
   "name": "python",
   "nbconvert_exporter": "python",
   "pygments_lexer": "ipython3",
   "version": "3.10.9"
  },
  "orig_nbformat": 4,
  "vscode": {
   "interpreter": {
    "hash": "cbc9bc058a47547e04c127d14e4ddbe2a6ee888f45573976dab25d4d6ce9c846"
   }
  }
 },
 "nbformat": 4,
 "nbformat_minor": 2
}
